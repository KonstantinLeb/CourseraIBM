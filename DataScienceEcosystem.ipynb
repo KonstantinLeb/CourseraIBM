# Data Science Tools and Ecosystem

In this notebook, Data Science Tools and Ecosystem are summarized.
Objectives:
- List popular languages for Data Science
- List popular Data Science Tools
- List commonly used libraries used by Data Scienctists 
Some of the popular languages that Data Scientists use are:

1. R
2. Python
3. Julia
Some of the commonly used libraries used by Data Scientists include:
1. NumPy
2. Pandas
3. Matplotlib
4. Seaborn
| Data Science Tools    |
|-----------------------|
| Jupyter Notebook      |
| RStudio               |
| Spyder                |

### Below are a few examples of evaluating arithmetic expressions in Python
# This a simple arithmetic expression to mutiply then add integers
(3*4)+5
#This will convert 200 minutes to hours by diving by 60
200/60
## Author
Konstantin Leberfinger
